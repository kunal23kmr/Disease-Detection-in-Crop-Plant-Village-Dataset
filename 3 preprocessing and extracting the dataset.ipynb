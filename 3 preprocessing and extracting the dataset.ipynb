{
 "cells": [
  {
   "cell_type": "code",
   "execution_count": 1,
   "metadata": {},
   "outputs": [],
   "source": [
    "import os\n",
    "import cv2\n",
    "import numpy as np\n",
    "import pandas as pd\n",
    "import mahotas as mt\n",
    "from matplotlib import pyplot as plt\n",
    "from skimage import exposure\n",
    "\n",
    "%matplotlib inline"
   ]
  },
  {
   "cell_type": "code",
   "execution_count": 2,
   "metadata": {},
   "outputs": [],
   "source": [
    "train = \"./train\"\n",
    "img_folders = os.listdir(train)"
   ]
  },
  {
   "cell_type": "code",
   "execution_count": 3,
   "metadata": {},
   "outputs": [
    {
     "name": "stdout",
     "output_type": "stream",
     "text": [
      "38\n",
      "Folders:  ['Tomato___Spider_mites Two-spotted_spider_mite', 'Squash___Powdery_mildew', 'Orange___Haunglongbing_(Citrus_greening)', 'Tomato___Target_Spot', 'Tomato___Septoria_leaf_spot', 'Raspberry___healthy', 'Tomato___Leaf_Mold', 'Cherry_(including_sour)___healthy', 'Pepper,_bell___Bacterial_spot', 'Grape___healthy', 'Pepper,_bell___healthy', 'Corn_(maize)___Common_rust_', 'Corn_(maize)___healthy', 'Apple___Apple_scab', 'Blueberry___healthy', 'Strawberry___Leaf_scorch', 'Tomato___Tomato_mosaic_virus', 'Tomato___healthy', 'Tomato___Late_blight', 'Tomato___Tomato_Yellow_Leaf_Curl_Virus', 'Corn_(maize)___Cercospora_leaf_spot Gray_leaf_spot', 'Potato___healthy', 'Soybean___healthy', 'Strawberry___healthy', 'Apple___healthy', 'Peach___healthy', 'Potato___Early_blight', 'Apple___Cedar_apple_rust', 'Tomato___Bacterial_spot', 'Grape___Black_rot', 'Peach___Bacterial_spot', 'Corn_(maize)___Northern_Leaf_Blight', 'Cherry_(including_sour)___Powdery_mildew', 'Potato___Late_blight', 'Grape___Esca_(Black_Measles)', 'Tomato___Early_blight', 'Grape___Leaf_blight_(Isariopsis_Leaf_Spot)', 'Apple___Black_rot']\n"
     ]
    }
   ],
   "source": [
    "print(len(img_folders))\n",
    "print('Folders: ', img_folders)"
   ]
  },
  {
   "cell_type": "code",
   "execution_count": 4,
   "metadata": {},
   "outputs": [
    {
     "data": {
      "text/plain": [
       "<matplotlib.image.AxesImage at 0x7bd05fdb2bd0>"
      ]
     },
     "execution_count": 4,
     "metadata": {},
     "output_type": "execute_result"
    },
    {
     "data": {
      "image/png": "[encoded data removed]",
      "text/plain": [
       "<Figure size 640x480 with 1 Axes>"
      ]
     },
     "metadata": {},
     "output_type": "display_data"
    }
   ],
   "source": [
    "# get a black image\n",
    "black_img = np.empty([250, 250, 3], dtype=np.uint8)\n",
    "black_img.fill(0)\n",
    "plt.imshow(black_img, cmap=\"Greys_r\")"
   ]
  },
  {
   "cell_type": "code",
   "execution_count": 5,
   "metadata": {},
   "outputs": [],
   "source": [
    "def create_dataset():\n",
    "    names = ['mean_r', 'mean_g', 'mean_b',\n",
    "             'stddev_r', 'stddev_g', 'stddev_b',\n",
    "             'contrast', 'correlation', 'inverse_difference_moments', 'entropy',\n",
    "             'y'\n",
    "             ]\n",
    "    df = pd.DataFrame([], columns=names)\n",
    "\n",
    "    count = 0\n",
    "\n",
    "    for folder in img_folders:\n",
    "        img_files = os.listdir(path='./train/'+folder)\n",
    "        for index, img_file in enumerate(img_files):\n",
    "            if index > 200:\n",
    "                break\n",
    "\n",
    "            img_path = \"./train/\" + folder + '/' + img_file\n",
    "            main_img = cv2.imread(img_path)\n",
    "\n",
    "            if main_img is None:\n",
    "                print(f\"Error reading image: {img_path}\")\n",
    "                continue\n",
    "\n",
    "            # Preprocessing\n",
    "            img = cv2.cvtColor(main_img, cv2.COLOR_BGR2RGB)\n",
    "            img = cv2.resize(img, (400, 300))\n",
    "\n",
    "            gs = cv2.cvtColor(img, cv2.COLOR_RGB2GRAY)\n",
    "            # Applying CLAHE (Contrast Limited Adaptive Histogram Equalization)\n",
    "            clahe = exposure.equalize_adapthist(\n",
    "                gs, kernel_size=None, clip_limit=0.015, nbins=256)\n",
    "\n",
    "            # Convert the float64 image to 8-bit\n",
    "            clahe_uint8 = (clahe * 255).astype(np.uint8)\n",
    "\n",
    "            # Adjusting contrast in the enhanced image\n",
    "            contrasted_image = np.clip(clahe_uint8, 0, 255)\n",
    "\n",
    "            blur = cv2.GaussianBlur(contrasted_image, (35, 35), 0)\n",
    "\n",
    "            return_otsu_threshould, im_bw_otsu = cv2.threshold(\n",
    "                blur, 0, 255, cv2.THRESH_BINARY_INV+cv2.THRESH_OTSU)\n",
    "\n",
    "            kernel = np.ones((35, 35), np.uint8)\n",
    "            closing = cv2.morphologyEx(im_bw_otsu, cv2.MORPH_CLOSE, kernel)\n",
    "\n",
    "            # Contour\n",
    "            contours, hierarchy = cv2.findContours(\n",
    "                closing, cv2.RETR_TREE, cv2.CHAIN_APPROX_SIMPLE)\n",
    "\n",
    "            # Finding the correct leaf contour from the list of contours\n",
    "            def find_contour(cnts):\n",
    "                contains = []\n",
    "                y_ri, x_ri, _ = img.shape\n",
    "                for cc in cnts:\n",
    "                    yn = cv2.pointPolygonTest(cc, (x_ri//2, y_ri//2), False)\n",
    "                    contains.append(yn)\n",
    "\n",
    "                val = [contains.index(temp) for temp in contains if temp > 0]\n",
    "                if len(val) < 1:\n",
    "                    return -1\n",
    "\n",
    "                return val[0]\n",
    "\n",
    "            index = find_contour(contours)\n",
    "            if index == -1:\n",
    "                continue\n",
    "\n",
    "            cnt = contours[index]\n",
    "\n",
    "            # Create a black image to draw contours\n",
    "            black_img = np.zeros_like(img)\n",
    "\n",
    "            # Draw contour on the black image\n",
    "            mask = cv2.drawContours(black_img, [cnt], 0, (255, 255, 255), -1)\n",
    "            img = cv2.bitwise_and(img, mask)\n",
    "\n",
    "            # Color features\n",
    "            red_channel = img[:, :, 0]\n",
    "            green_channel = img[:, :, 1]\n",
    "            blue_channel = img[:, :, 2]\n",
    "\n",
    "            blue_channel[blue_channel == 255] = 0\n",
    "            green_channel[green_channel == 255] = 0\n",
    "            red_channel[red_channel == 255] = 0\n",
    "\n",
    "            # calculating the statistical values of all channels\n",
    "            red_mean = np.mean(red_channel)\n",
    "            green_mean = np.mean(green_channel)\n",
    "            blue_mean = np.mean(blue_channel)\n",
    "\n",
    "            red_std = np.std(red_channel)\n",
    "            green_std = np.std(green_channel)\n",
    "            blue_std = np.std(blue_channel)\n",
    "\n",
    "            # Texture features\n",
    "            textures = mt.features.haralick(gs)\n",
    "            ht_mean = textures.mean(axis=0)\n",
    "            contrast = ht_mean[1]\n",
    "            correlation = ht_mean[2]\n",
    "            inverse_diff_moments = ht_mean[4]\n",
    "            entropy = ht_mean[8]\n",
    "\n",
    "            # Define vector inside the loop\n",
    "            vector = [red_mean, green_mean, blue_mean,\n",
    "                      red_std, green_std, blue_std,\n",
    "                      contrast, correlation, inverse_diff_moments, entropy, count]\n",
    "\n",
    "            df_temp = pd.DataFrame([vector], columns=names)\n",
    "            if not df_temp.empty:\n",
    "                df = pd.concat([df, pd.DataFrame(df_temp)], ignore_index=True)\n",
    "            # print(img_file)\n",
    "        count += 1\n",
    "    return df"
   ]
  },
  {
   "cell_type": "code",
   "execution_count": 6,
   "metadata": {},
   "outputs": [
    {
     "name": "stderr",
     "output_type": "stream",
     "text": [
      "/tmp/ipykernel_60638/487735315.py:111: FutureWarning: The behavior of DataFrame concatenation with empty or all-NA entries is deprecated. In a future version, this will no longer exclude empty or all-NA columns when determining the result dtypes. To retain the old behavior, exclude the relevant entries before the concat operation.\n",
      "  df = pd.concat([df, pd.DataFrame(df_temp)], ignore_index=True)\n"
     ]
    }
   ],
   "source": [
    "dataset = create_dataset()"
   ]
  },
  {
   "cell_type": "code",
   "execution_count": 7,
   "metadata": {},
   "outputs": [
    {
     "data": {
      "text/plain": [
       "(7638, 11)"
      ]
     },
     "execution_count": 7,
     "metadata": {},
     "output_type": "execute_result"
    }
   ],
   "source": [
    "dataset.shape"
   ]
  },
  {
   "cell_type": "code",
   "execution_count": 8,
   "metadata": {},
   "outputs": [
    {
     "data": {
      "text/plain": [
       "pandas.core.frame.DataFrame"
      ]
     },
     "execution_count": 8,
     "metadata": {},
     "output_type": "execute_result"
    }
   ],
   "source": [
    "type(dataset)"
   ]
  },
  {
   "cell_type": "code",
   "execution_count": 9,
   "metadata": {},
   "outputs": [],
   "source": [
    "dataset.to_csv(\"plant_village_200_400-300-v2.csv\")"
   ]
  },
  {
   "cell_type": "code",
   "execution_count": null,
   "metadata": {},
   "outputs": [],
   "source": [
    "def remove_bg(main_img):\n",
    "    # Preprocessing\n",
    "    img = cv2.cvtColor(main_img, cv2.COLOR_BGR2RGB)\n",
    "    img = cv2.resize(img, (250, 250))\n",
    "\n",
    "    gs = cv2.cvtColor(img, cv2.COLOR_RGB2GRAY)\n",
    "    # Applying CLAHE (Contrast Limited Adaptive Histogram Equalization)\n",
    "    clahe = exposure.equalize_adapthist(\n",
    "        gs, kernel_size=None, clip_limit=0.015, nbins=256)\n",
    "\n",
    "    # Convert the float64 image to 8-bit\n",
    "    clahe_uint8 = (clahe * 255).astype(np.uint8)\n",
    "\n",
    "    # Adjusting contrast in the enhanced image\n",
    "    contrasted_image = np.clip(clahe_uint8, 0, 255)\n",
    "\n",
    "    blur = cv2.GaussianBlur(contrasted_image, (35, 35), 0)\n",
    "\n",
    "    return_otsu_threshould, im_bw_otsu = cv2.threshold(\n",
    "        blur, 0, 255, cv2.THRESH_BINARY_INV+cv2.THRESH_OTSU)\n",
    "\n",
    "    kernel = np.ones((35, 35), np.uint8)\n",
    "    closing = cv2.morphologyEx(im_bw_otsu, cv2.MORPH_CLOSE, kernel)\n",
    "    # Contour\n",
    "    contours, hierarchy = cv2.findContours(\n",
    "        closing, cv2.RETR_TREE, cv2.CHAIN_APPROX_SIMPLE)\n",
    "    # Finding the correct leaf contour from the list of contours\n",
    "\n",
    "    def find_contour(cnts):\n",
    "        contains = []\n",
    "        y_ri, x_ri, _ = img.shape\n",
    "        for cc in cnts:\n",
    "            yn = cv2.pointPolygonTest(cc, (x_ri//2, y_ri//2), False)\n",
    "            contains.append(yn)\n",
    "            val = [contains.index(temp) for temp in contains if temp > 0]\n",
    "            if len(val) < 1:\n",
    "                return -1\n",
    "        return val[0]\n",
    "\n",
    "    index = find_contour(contours)\n",
    "\n",
    "    if index == -1:\n",
    "        return\n",
    "\n",
    "    cnt = contours[index]\n",
    "    # Create a black image to draw contours\n",
    "    black_img = np.zeros_like(img)\n",
    "    # Draw contour on the black image\n",
    "    mask = cv2.drawContours(black_img, [cnt], 0, (255, 255, 255), -1)\n",
    "    img = cv2.bitwise_and(img, mask)"
   ]
  }
 ],
 "metadata": {
  "kernelspec": {
   "display_name": "Python 3",
   "language": "python",
   "name": "python3"
  },
  "language_info": {
   "codemirror_mode": {
    "name": "ipython",
    "version": 3
   },
   "file_extension": ".py",
   "mimetype": "text/x-python",
   "name": "python",
   "nbconvert_exporter": "python",
   "pygments_lexer": "ipython3",
   "version": "3.12.3"
  }
 },
 "nbformat": 4,
 "nbformat_minor": 2
}
